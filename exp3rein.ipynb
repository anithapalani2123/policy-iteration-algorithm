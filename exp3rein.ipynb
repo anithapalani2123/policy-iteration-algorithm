{
  "nbformat": 4,
  "nbformat_minor": 0,
  "metadata": {
    "colab": {
      "provenance": []
    },
    "kernelspec": {
      "name": "python3",
      "display_name": "Python 3"
    },
    "language_info": {
      "name": "python"
    }
  },
  "cells": [
    {
      "cell_type": "code",
      "execution_count": null,
      "metadata": {
        "id": "X-NPnX6RC8EL"
      },
      "outputs": [],
      "source": [
        "import warnings ; warnings.filterwarnings('ignore')\n",
        "\n",
        "import gym, gym_walk\n",
        "import numpy as np\n",
        "\n",
        "import random\n",
        "import warnings\n",
        "\n",
        "warnings.filterwarnings('ignore', category=DeprecationWarning)\n",
        "np.set_printoptions(suppress=True)\n",
        "random.seed(123); np.random.seed(123)\n"
      ]
    },
    {
      "cell_type": "code",
      "source": [
        "pip install git+https://github.com/mimoralea/gym-walk#egg=gym-walk"
      ],
      "metadata": {
        "id": "Xq4FC7N-DYqX",
        "outputId": "376a4386-3733-4d33-fab5-c558e2575b0a",
        "colab": {
          "base_uri": "https://localhost:8080/"
        }
      },
      "execution_count": null,
      "outputs": [
        {
          "output_type": "stream",
          "name": "stdout",
          "text": [
            "Collecting gym-walk\n",
            "  Cloning https://github.com/mimoralea/gym-walk to /tmp/pip-install-eecyolsu/gym-walk_4e14e5af2acb4308a113554e098e3210\n",
            "  Running command git clone --filter=blob:none --quiet https://github.com/mimoralea/gym-walk /tmp/pip-install-eecyolsu/gym-walk_4e14e5af2acb4308a113554e098e3210\n",
            "  Resolved https://github.com/mimoralea/gym-walk to commit 5999016267d6de2f5a63307fb00dfd63de319ac1\n",
            "  Preparing metadata (setup.py) ... \u001b[?25l\u001b[?25hdone\n",
            "Requirement already satisfied: gym in /usr/local/lib/python3.10/dist-packages (from gym-walk) (0.25.2)\n",
            "Requirement already satisfied: numpy>=1.18.0 in /usr/local/lib/python3.10/dist-packages (from gym->gym-walk) (1.23.5)\n",
            "Requirement already satisfied: cloudpickle>=1.2.0 in /usr/local/lib/python3.10/dist-packages (from gym->gym-walk) (2.2.1)\n",
            "Requirement already satisfied: gym-notices>=0.0.4 in /usr/local/lib/python3.10/dist-packages (from gym->gym-walk) (0.0.8)\n",
            "Building wheels for collected packages: gym-walk\n",
            "  Building wheel for gym-walk (setup.py) ... \u001b[?25l\u001b[?25hdone\n",
            "  Created wheel for gym-walk: filename=gym_walk-0.0.2-py3-none-any.whl size=4054 sha256=e6969b427006dbad5739c650bccf494b29383d4ae09ea8161825df26c9b77392\n",
            "  Stored in directory: /tmp/pip-ephem-wheel-cache-1x1w_tx2/wheels/24/fe/c4/0cbc7511d29265bad7e28a09311db3f87f0cafba74af54d530\n",
            "Successfully built gym-walk\n",
            "Installing collected packages: gym-walk\n",
            "Successfully installed gym-walk-0.0.2\n"
          ]
        }
      ]
    },
    {
      "cell_type": "code",
      "source": [
        "def print_policy(pi, P, action_symbols=('<', 'v', '>', '^'), n_cols=4, title='Policy:'):\n",
        "    print(title)\n",
        "    arrs = {k:v for k,v in enumerate(action_symbols)}\n",
        "    for s in range(len(P)):\n",
        "        a = pi(s)\n",
        "        print(\"| \", end=\"\")\n",
        "        if np.all([done for action in P[s].values() for _, _, _, done in action]):\n",
        "            print(\"\".rjust(9), end=\" \")\n",
        "        else:\n",
        "            print(str(s).zfill(2), arrs[a].rjust(6), end=\" \")\n",
        "        if (s + 1) % n_cols == 0: print(\"|\")"
      ],
      "metadata": {
        "id": "ULnSv0hyELsY"
      },
      "execution_count": null,
      "outputs": []
    },
    {
      "cell_type": "code",
      "source": [
        "def print_state_value_function(V, P, n_cols=4, prec=3, title='State-value function:'):\n",
        "    print(title)\n",
        "    for s in range(len(P)):\n",
        "        v = V[s]\n",
        "        print(\"| \", end=\"\")\n",
        "        if np.all([done for action in P[s].values() for _, _, _, done in action]):\n",
        "            print(\"\".rjust(9), end=\" \")\n",
        "        else:\n",
        "            print(str(s).zfill(2), '{}'.format(np.round(v, prec)).rjust(6), end=\" \")\n",
        "        if (s + 1) % n_cols == 0: print(\"|\")"
      ],
      "metadata": {
        "id": "odrRzhpWFxY6"
      },
      "execution_count": null,
      "outputs": []
    },
    {
      "cell_type": "code",
      "source": [
        "def probability_success(env, pi, goal_state, n_episodes=100, max_steps=200):\n",
        "    random.seed(123); np.random.seed(123) ; env.seed(123)\n",
        "    results = []\n",
        "    for _ in range(n_episodes):\n",
        "        state, done, steps = env.reset(), False, 0\n",
        "        while not done and steps < max_steps:\n",
        "            state, _, done, h = env.step(pi(state))\n",
        "            steps += 1\n",
        "        results.append(state == goal_state)\n",
        "    return np.sum(results)/len(results)"
      ],
      "metadata": {
        "id": "1TQZrao3KV4z"
      },
      "execution_count": null,
      "outputs": []
    },
    {
      "cell_type": "code",
      "source": [
        "def mean_return(env, pi, n_episodes=100, max_steps=200):\n",
        "    random.seed(123); np.random.seed(123) ; env.seed(123)\n",
        "    results = []\n",
        "    for _ in range(n_episodes):\n",
        "        state, done, steps = env.reset(), False, 0\n",
        "        results.append(0.0)\n",
        "        while not done and steps < max_steps:\n",
        "            state, reward, done, _ = env.step(pi(state))\n",
        "            results[-1] += reward\n",
        "            steps += 1\n",
        "    return np.mean(results)"
      ],
      "metadata": {
        "id": "Jo6HA0ljKYWS"
      },
      "execution_count": null,
      "outputs": []
    },
    {
      "cell_type": "markdown",
      "source": [
        "# Slippery Walk Five MDP\n",
        "\n"
      ],
      "metadata": {
        "id": "uMrHhEWREm6n"
      }
    },
    {
      "cell_type": "code",
      "source": [
        "env = gym.make('SlipperyWalkFive-v0')\n",
        "P = env.env.P\n",
        "init_state = env.reset()\n",
        "goal_state = 6\n",
        "LEFT, RIGHT = range(2)"
      ],
      "metadata": {
        "id": "iQarExmVL-oc"
      },
      "execution_count": null,
      "outputs": []
    },
    {
      "cell_type": "code",
      "source": [
        "P"
      ],
      "metadata": {
        "id": "e1g6JQTez-NO",
        "outputId": "b2cce4db-ca9e-4b92-b6e6-d617882e1ec3",
        "colab": {
          "base_uri": "https://localhost:8080/"
        }
      },
      "execution_count": null,
      "outputs": [
        {
          "output_type": "execute_result",
          "data": {
            "text/plain": [
              "{0: {0: [(0.5000000000000001, 0, 0.0, True),\n",
              "   (0.3333333333333333, 0, 0.0, True),\n",
              "   (0.16666666666666666, 0, 0.0, True)],\n",
              "  1: [(0.5000000000000001, 0, 0.0, True),\n",
              "   (0.3333333333333333, 0, 0.0, True),\n",
              "   (0.16666666666666666, 0, 0.0, True)]},\n",
              " 1: {0: [(0.5000000000000001, 0, 0.0, True),\n",
              "   (0.3333333333333333, 1, 0.0, False),\n",
              "   (0.16666666666666666, 2, 0.0, False)],\n",
              "  1: [(0.5000000000000001, 2, 0.0, False),\n",
              "   (0.3333333333333333, 1, 0.0, False),\n",
              "   (0.16666666666666666, 0, 0.0, True)]},\n",
              " 2: {0: [(0.5000000000000001, 1, 0.0, False),\n",
              "   (0.3333333333333333, 2, 0.0, False),\n",
              "   (0.16666666666666666, 3, 0.0, False)],\n",
              "  1: [(0.5000000000000001, 3, 0.0, False),\n",
              "   (0.3333333333333333, 2, 0.0, False),\n",
              "   (0.16666666666666666, 1, 0.0, False)]},\n",
              " 3: {0: [(0.5000000000000001, 2, 0.0, False),\n",
              "   (0.3333333333333333, 3, 0.0, False),\n",
              "   (0.16666666666666666, 4, 0.0, False)],\n",
              "  1: [(0.5000000000000001, 4, 0.0, False),\n",
              "   (0.3333333333333333, 3, 0.0, False),\n",
              "   (0.16666666666666666, 2, 0.0, False)]},\n",
              " 4: {0: [(0.5000000000000001, 3, 0.0, False),\n",
              "   (0.3333333333333333, 4, 0.0, False),\n",
              "   (0.16666666666666666, 5, 0.0, False)],\n",
              "  1: [(0.5000000000000001, 5, 0.0, False),\n",
              "   (0.3333333333333333, 4, 0.0, False),\n",
              "   (0.16666666666666666, 3, 0.0, False)]},\n",
              " 5: {0: [(0.5000000000000001, 4, 0.0, False),\n",
              "   (0.3333333333333333, 5, 0.0, False),\n",
              "   (0.16666666666666666, 6, 1.0, True)],\n",
              "  1: [(0.5000000000000001, 6, 1.0, True),\n",
              "   (0.3333333333333333, 5, 0.0, False),\n",
              "   (0.16666666666666666, 4, 0.0, False)]},\n",
              " 6: {0: [(0.5000000000000001, 6, 0.0, True),\n",
              "   (0.3333333333333333, 6, 0.0, True),\n",
              "   (0.16666666666666666, 6, 0.0, True)],\n",
              "  1: [(0.5000000000000001, 6, 0.0, True),\n",
              "   (0.3333333333333333, 6, 0.0, True),\n",
              "   (0.16666666666666666, 6, 0.0, True)]}}"
            ]
          },
          "metadata": {},
          "execution_count": 8
        }
      ]
    },
    {
      "cell_type": "code",
      "source": [
        "init_state"
      ],
      "metadata": {
        "id": "NodoNFNi4RM3",
        "outputId": "55ee5ab4-358d-481c-88f5-d7b835e9f323",
        "colab": {
          "base_uri": "https://localhost:8080/"
        }
      },
      "execution_count": null,
      "outputs": [
        {
          "output_type": "execute_result",
          "data": {
            "text/plain": [
              "3"
            ]
          },
          "metadata": {},
          "execution_count": 9
        }
      ]
    },
    {
      "cell_type": "code",
      "source": [
        "state, reward, done, info = env.step(RIGHT)\n",
        "print(\"state:{0} - reward:{1} - done:{2} - info:{3}\".format(state, reward, done, info))"
      ],
      "metadata": {
        "id": "LG6WyB6K4NNs",
        "outputId": "d46a381a-f87e-4429-e5cc-36c8e39614d6",
        "colab": {
          "base_uri": "https://localhost:8080/"
        }
      },
      "execution_count": null,
      "outputs": [
        {
          "output_type": "stream",
          "name": "stdout",
          "text": [
            "state:4 - reward:0.0 - done:False - info:{'prob': 0.5000000000000001}\n"
          ]
        }
      ]
    },
    {
      "cell_type": "code",
      "source": [
        "# Adversarial Policy\n",
        "pi_1 = lambda s: {\n",
        "    0:LEFT, 1:LEFT, 2:LEFT, 3:LEFT, 4:LEFT, 5:LEFT, 6:LEFT\n",
        "}[s]\n",
        "print_policy(pi_1, P, action_symbols=('<', '>'), n_cols=7)"
      ],
      "metadata": {
        "id": "xDjAg7A5EuBl",
        "outputId": "a354e552-4167-4a3a-c1c1-4e04f1e4ffaa",
        "colab": {
          "base_uri": "https://localhost:8080/"
        }
      },
      "execution_count": null,
      "outputs": [
        {
          "output_type": "stream",
          "name": "stdout",
          "text": [
            "Policy:\n",
            "|           | 01      < | 02      < | 03      < | 04      < | 05      < |           |\n"
          ]
        }
      ]
    },
    {
      "cell_type": "code",
      "source": [
        "print('Reaches goal {:.2f}%. Obtains an average undiscounted return of {:.4f}.'.format(\n",
        "    probability_success(env, pi_1, goal_state=goal_state)*100,\n",
        "    mean_return(env, pi_1)))"
      ],
      "metadata": {
        "id": "K_F49FYPKSla",
        "outputId": "158d2da1-0319-4291-a515-e78f97077495",
        "colab": {
          "base_uri": "https://localhost:8080/"
        }
      },
      "execution_count": null,
      "outputs": [
        {
          "output_type": "stream",
          "name": "stdout",
          "text": [
            "Reaches goal 3.00%. Obtains an average undiscounted return of 0.0300.\n"
          ]
        }
      ]
    },
    {
      "cell_type": "markdown",
      "source": [
        "# Policy Evaluation"
      ],
      "metadata": {
        "id": "naeLUwLgFA5-"
      }
    },
    {
      "cell_type": "code",
      "source": [
        "def policy_evaluation(pi, P, gamma=1.0, theta=1e-10):\n",
        "    prev_V = np.zeros(len(P), dtype=np.float64)\n",
        "    while True:\n",
        "        V = np.zeros(len(P), dtype=np.float64)\n",
        "        for s in range(len(P)):\n",
        "            for prob, next_state, reward, done in P[s][pi(s)]:\n",
        "                V[s] += prob * (reward + gamma * prev_V[next_state] * (not done))\n",
        "        if np.max(np.abs(prev_V - V)) < theta:\n",
        "            break\n",
        "        prev_V = V.copy()\n",
        "    return V"
      ],
      "metadata": {
        "id": "Eog1Pxb4E-Kp"
      },
      "execution_count": null,
      "outputs": []
    },
    {
      "cell_type": "code",
      "source": [
        "# Code to evaluate the adversarial policy\n",
        "V1 = policy_evaluation(pi_1, P)\n",
        "print_state_value_function(V1, P, n_cols=7, prec=5)"
      ],
      "metadata": {
        "id": "XFAH8_6GFGVs",
        "outputId": "309a2b56-1b0a-485e-e324-226e1a161516",
        "colab": {
          "base_uri": "https://localhost:8080/"
        }
      },
      "execution_count": null,
      "outputs": [
        {
          "output_type": "stream",
          "name": "stdout",
          "text": [
            "State-value function:\n",
            "|           | 01 0.00275 | 02 0.01099 | 03 0.03571 | 04 0.10989 | 05 0.33242 |           |\n"
          ]
        }
      ]
    },
    {
      "cell_type": "markdown",
      "source": [
        "# Policy Improvement"
      ],
      "metadata": {
        "id": "C-DFPrKoAIF1"
      }
    },
    {
      "cell_type": "code",
      "source": [
        "def policy_improvement(V, P, gamma=1.0):\n",
        "    Q = np.zeros((len(P), len(P[0])), dtype=np.float64)\n",
        "    for s in range(len(P)):\n",
        "      for a in range(len(P[s])):\n",
        "        for prob,next_state,reward,done in P[s][a]:\n",
        "          Q[s][a]+=prob*(reward + gamma * V[next_state] * (not done))\n",
        "    # Write your code here to implement policy improvement algorithm\n",
        "    new_pi =lambda s: {s:a for s, a in enumerate(np.argmax(Q,axis=1))}[s]\n",
        "    return new_pi"
      ],
      "metadata": {
        "id": "Z2x10x9VAG1o"
      },
      "execution_count": null,
      "outputs": []
    },
    {
      "cell_type": "code",
      "source": [
        "# Finding the improved policy\n",
        "pi_2 = policy_improvement(V1, P)\n",
        "print_policy(pi_2, P, action_symbols=('<', '>'), n_cols=7)\n"
      ],
      "metadata": {
        "id": "eOvlP--dAncq",
        "outputId": "954e5fa0-af86-458c-d457-42b4004cf63e",
        "colab": {
          "base_uri": "https://localhost:8080/"
        }
      },
      "execution_count": null,
      "outputs": [
        {
          "output_type": "stream",
          "name": "stdout",
          "text": [
            "Policy:\n",
            "|           | 01      > | 02      > | 03      > | 04      > | 05      > |           |\n"
          ]
        }
      ]
    },
    {
      "cell_type": "code",
      "source": [
        "print('Reaches goal {:.2f}%. Obtains an average undiscounted return of {:.4f}.'.format(\n",
        "    probability_success(env, pi_2, goal_state=goal_state)*100,\n",
        "    mean_return(env, pi_2)))"
      ],
      "metadata": {
        "id": "LnJaDq4mA27u",
        "outputId": "dfb19df5-b946-462b-b9b0-bf68a4eef93e",
        "colab": {
          "base_uri": "https://localhost:8080/"
        }
      },
      "execution_count": null,
      "outputs": [
        {
          "output_type": "stream",
          "name": "stdout",
          "text": [
            "Reaches goal 97.00%. Obtains an average undiscounted return of 0.9700.\n"
          ]
        }
      ]
    },
    {
      "cell_type": "code",
      "source": [
        "# Finding the value function for the improved policy\n",
        "V2 = policy_evaluation(pi_2, P)\n",
        "print_state_value_function(V2, P, n_cols=7, prec=5)"
      ],
      "metadata": {
        "id": "A6aQnkiuBH-A",
        "outputId": "2d163aaf-77e5-4a91-9bef-7756a73251ef",
        "colab": {
          "base_uri": "https://localhost:8080/"
        }
      },
      "execution_count": null,
      "outputs": [
        {
          "output_type": "stream",
          "name": "stdout",
          "text": [
            "State-value function:\n",
            "|           | 01 0.66758 | 02 0.89011 | 03 0.96429 | 04 0.98901 | 05 0.99725 |           |\n"
          ]
        }
      ]
    },
    {
      "cell_type": "code",
      "source": [
        "# comparing the initial and the improved policy\n",
        "if(np.sum(V1>=V2)==7):\n",
        "  print(\"The first policy is the better policy\")\n",
        "elif(np.sum(V2>=V1)==7):\n",
        "  print(\"The second policy is the better policy\")\n",
        "else:\n",
        "  print(\"Both policies have their merits.\")"
      ],
      "metadata": {
        "id": "7LgNwrO8BmXY",
        "outputId": "89b05e12-3d91-476e-b6d9-8c03a311f113",
        "colab": {
          "base_uri": "https://localhost:8080/"
        }
      },
      "execution_count": null,
      "outputs": [
        {
          "output_type": "stream",
          "name": "stdout",
          "text": [
            "The second policy is the better policy\n"
          ]
        }
      ]
    },
    {
      "cell_type": "markdown",
      "source": [
        "# Policy Iteration"
      ],
      "metadata": {
        "id": "XL5JNrIKB0fd"
      }
    },
    {
      "cell_type": "code",
      "source": [
        "def policy_iteration(P, gamma=1.0, theta=1e-10):\n",
        "    random_actions = np.random.choice(tuple(P[0].keys()), len(P))\n",
        "    # Write your code here to implement the policy iteration algorithm\n",
        "    pi=lambda s: {s:a for s, a in enumerate(random_actions)}[s]\n",
        "    while True:\n",
        "      old_pi = {s:pi(s) for s in range(len(P))}\n",
        "      V=policy_evaluation(pi,P,gamma,theta)\n",
        "      pi=policy_improvement(V,P,gamma)\n",
        "      if old_pi=={s:pi(s) for s in range(len(P))}:\n",
        "        break\n",
        "\n",
        "    return V, pi"
      ],
      "metadata": {
        "id": "S_3hGyPlB2Dc"
      },
      "execution_count": null,
      "outputs": []
    },
    {
      "cell_type": "code",
      "source": [
        "optimal_V, optimal_pi = policy_iteration(P)"
      ],
      "metadata": {
        "id": "OeLxNOjmCTk0"
      },
      "execution_count": null,
      "outputs": []
    },
    {
      "cell_type": "code",
      "source": [
        "print('Optimal policy and state-value function (PI):')\n",
        "print_policy(optimal_pi, P, action_symbols=('<', '>'), n_cols=7)"
      ],
      "metadata": {
        "id": "QHh4iMJuCbFc",
        "outputId": "c0773762-8c65-4482-f646-ecd06a02de94",
        "colab": {
          "base_uri": "https://localhost:8080/"
        }
      },
      "execution_count": null,
      "outputs": [
        {
          "output_type": "stream",
          "name": "stdout",
          "text": [
            "Optimal policy and state-value function (PI):\n",
            "Policy:\n",
            "|           | 01      > | 02      > | 03      > | 04      > | 05      > |           |\n"
          ]
        }
      ]
    },
    {
      "cell_type": "code",
      "source": [
        "print('Reaches goal {:.2f}%. Obtains an average undiscounted return of {:.4f}.'.format(\n",
        "    probability_success(env, optimal_pi, goal_state=goal_state)*100,\n",
        "    mean_return(env, optimal_pi)))"
      ],
      "metadata": {
        "id": "jWKHQ_9QCfA7",
        "outputId": "a174b9d2-3aad-4e52-f277-dd6acc2e31c3",
        "colab": {
          "base_uri": "https://localhost:8080/"
        }
      },
      "execution_count": null,
      "outputs": [
        {
          "output_type": "stream",
          "name": "stdout",
          "text": [
            "Reaches goal 97.00%. Obtains an average undiscounted return of 0.9700.\n"
          ]
        }
      ]
    },
    {
      "cell_type": "code",
      "source": [
        "print_state_value_function(optimal_V, P, n_cols=7, prec=5)"
      ],
      "metadata": {
        "id": "UOI5gioZCgw-",
        "outputId": "9fa62513-60e8-4232-d2d5-ae8726dd8921",
        "colab": {
          "base_uri": "https://localhost:8080/"
        }
      },
      "execution_count": null,
      "outputs": [
        {
          "output_type": "stream",
          "name": "stdout",
          "text": [
            "State-value function:\n",
            "|           | 01 0.66758 | 02 0.89011 | 03 0.96429 | 04 0.98901 | 05 0.99725 |           |\n"
          ]
        }
      ]
    }
  ]
}